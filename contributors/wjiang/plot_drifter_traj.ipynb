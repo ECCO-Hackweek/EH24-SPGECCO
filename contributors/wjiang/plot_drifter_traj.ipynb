{
 "cells": [
  {
   "cell_type": "code",
   "execution_count": 1,
   "id": "89aa64bb-415a-4508-94dd-9fb3cea7bdaf",
   "metadata": {},
   "outputs": [],
   "source": [
    "import sys\n",
    "sys.path.append('/efs_ecco/ECCO/EMU/emu_userinterface_dir/')\n",
    "import emu_plot_arg_py as ept\n",
    "import numpy as np\n",
    "import matplotlib.pyplot as plt\n",
    "import lib_python\n",
    "import plot_conv\n",
    "import plot_conv_sub"
   ]
  },
  {
   "cell_type": "markdown",
   "id": "af268f08-beca-4330-8bfd-45d98480469b",
   "metadata": {},
   "source": [
    "# set up the plotting routine"
   ]
  },
  {
   "cell_type": "code",
   "execution_count": null,
   "id": "2ee8ca31-3a5b-4646-8b0a-148b25b08658",
   "metadata": {},
   "outputs": [],
   "source": [
    "import ecco_v4_py as e4p\n",
    "\n",
    "import cartopy.crs as ccrs\n",
    "import cartopy.feature as cfeature\n",
    "import xarray as xr\n",
    "projection = ccrs.PlateCarree()\n",
    "grid = xr.open_dataset('/efs_ecco/wjiang/data_folder/GRID_GEOMETRY_ECCO_V4r4_native_llc0090.nc')\n",
    "xx = np.array(grid.XC).ravel()\n",
    "yy = np.array(grid.YC).ravel()\n",
    "cmap = 'Blues'\n",
    "extent = (-70,40,-30,30)"
   ]
  },
  {
   "cell_type": "markdown",
   "id": "65e61e33-2cd5-4fe4-9c2a-c9e6775d9fc7",
   "metadata": {},
   "source": [
    "# Load forward tracer data\n",
    "\n",
    "Tracer is released from 6 degree S, and forward for a year. "
   ]
  },
  {
   "cell_type": "code",
   "execution_count": 3,
   "id": "2d3aea10-8253-4a7d-9a89-8036b31539d9",
   "metadata": {},
   "outputs": [
    {
     "name": "stdout",
     "output_type": "stream",
     "text": [
      "Found file: /efs_ecco/ECCO/EMU/emu_userinterface_dir/emu_env.singularity\n",
      "EMU Input Files directory: /efs/owang/ECCO/EMU_test/emu_input_dir\n",
      "\n",
      "Specified directory of EMU run to examine: /efs_ecco/wjiang/emu_runs/trac_drift/emu_trc_561_926_trc3d.-40.0_30.0_-7.0_-5.0_25.0_0.0\n",
      "\n",
      "Reading /efs_ecco/wjiang/emu_runs/trac_drift/emu_trc_561_926_trc3d.-40.0_30.0_-7.0_-5.0_25.0_0.0\n",
      "\n",
      "Reading Tracer Tool output ... \n",
      "\n",
      "Detected     13 files of ptracer_mon_mean.*.data\n",
      "Detected     12 files of ptracer_mon_snap.*.data\n",
      "\n",
      "Averaging type (\"m\" for monthly or \"s\" for snapshot): m\n",
      "\n",
      "==> Reading and plotting monthly means ... \n",
      "Specified start and end files #: 0 and 1000000\n",
      "\n",
      "\n",
      "Reading file ... /efs_ecco/wjiang/emu_runs/trac_drift/emu_trc_561_926_trc3d.-40.0_30.0_-7.0_-5.0_25.0_0.0/output/ptracer_mon_mean.0000013908.data\n",
      "\n",
      "Reading file ... /efs_ecco/wjiang/emu_runs/trac_drift/emu_trc_561_926_trc3d.-40.0_30.0_-7.0_-5.0_25.0_0.0/output/ptracer_mon_mean.0000014640.data\n",
      "\n",
      "Reading file ... /efs_ecco/wjiang/emu_runs/trac_drift/emu_trc_561_926_trc3d.-40.0_30.0_-7.0_-5.0_25.0_0.0/output/ptracer_mon_mean.0000015372.data\n",
      "\n",
      "Reading file ... /efs_ecco/wjiang/emu_runs/trac_drift/emu_trc_561_926_trc3d.-40.0_30.0_-7.0_-5.0_25.0_0.0/output/ptracer_mon_mean.0000016104.data\n",
      "\n",
      "Reading file ... /efs_ecco/wjiang/emu_runs/trac_drift/emu_trc_561_926_trc3d.-40.0_30.0_-7.0_-5.0_25.0_0.0/output/ptracer_mon_mean.0000016836.data\n",
      "\n",
      "Reading file ... /efs_ecco/wjiang/emu_runs/trac_drift/emu_trc_561_926_trc3d.-40.0_30.0_-7.0_-5.0_25.0_0.0/output/ptracer_mon_mean.0000017568.data\n",
      "\n",
      "Reading file ... /efs_ecco/wjiang/emu_runs/trac_drift/emu_trc_561_926_trc3d.-40.0_30.0_-7.0_-5.0_25.0_0.0/output/ptracer_mon_mean.0000018300.data\n",
      "\n",
      "Reading file ... /efs_ecco/wjiang/emu_runs/trac_drift/emu_trc_561_926_trc3d.-40.0_30.0_-7.0_-5.0_25.0_0.0/output/ptracer_mon_mean.0000019032.data\n",
      "\n",
      "Reading file ... /efs_ecco/wjiang/emu_runs/trac_drift/emu_trc_561_926_trc3d.-40.0_30.0_-7.0_-5.0_25.0_0.0/output/ptracer_mon_mean.0000019764.data\n",
      "\n",
      "Reading file ... /efs_ecco/wjiang/emu_runs/trac_drift/emu_trc_561_926_trc3d.-40.0_30.0_-7.0_-5.0_25.0_0.0/output/ptracer_mon_mean.0000020496.data\n",
      "\n",
      "Reading file ... /efs_ecco/wjiang/emu_runs/trac_drift/emu_trc_561_926_trc3d.-40.0_30.0_-7.0_-5.0_25.0_0.0/output/ptracer_mon_mean.0000021228.data\n",
      "\n",
      "Reading file ... /efs_ecco/wjiang/emu_runs/trac_drift/emu_trc_561_926_trc3d.-40.0_30.0_-7.0_-5.0_25.0_0.0/output/ptracer_mon_mean.0000021960.data\n",
      "\n",
      "Reading file ... /efs_ecco/wjiang/emu_runs/trac_drift/emu_trc_561_926_trc3d.-40.0_30.0_-7.0_-5.0_25.0_0.0/output/ptracer_mon_mean.0000022212.data\n",
      "\n",
      "*********************************************\n",
      "Returning variable \n",
      "   return_vars_tmp, a dictionary with one item being\n",
      "   trc: last plotted tracer (3d) or time series of tracer (3d)\n",
      "\n",
      "\n",
      "***********************\n",
      "EMU variables read as global variables in module global_emu_var (emu); e.g., emu.nx\n",
      "***********************\n",
      "cs                  drc                 drf                 dvol3d              \n",
      "dxc                 dxg                 dyc                 dyg                 \n",
      "hfacc               hfacs               hfacw               nr                  \n",
      "nx                  ny                  rac                 ras                 \n",
      "raw                 raz                 rc                  rf                  \n",
      "sn                  trc3d               xc                  xg                  \n",
      "yc                  yg                  \n"
     ]
    }
   ],
   "source": [
    "globals_dict = ept.emu_plot(run_name=\"/efs_ecco/wjiang/emu_runs/trac_drift/emu_trc_561_926_trc3d.-40.0_30.0_-7.0_-5.0_25.0_0.0\",\n",
    "                            avg_type='m',\n",
    "                            pfile_beg=0, pfile_end=1000000)"
   ]
  },
  {
   "cell_type": "code",
   "execution_count": 10,
   "id": "ba3c8d38-8821-4c63-9c09-bacaf685809d",
   "metadata": {},
   "outputs": [
    {
     "name": "stdout",
     "output_type": "stream",
     "text": [
      "llc_compact_to_faces: dims, llc  (13, 50, 1170, 90) 90\n",
      "llc_compact_to_faces: data_compact array type  float32\n",
      "llc_faces_to_tiles: data_tiles shape  (13, 50, 13, 90, 90)\n",
      "llc_faces_to_tiles: data_tiles dtype  float32\n"
     ]
    }
   ],
   "source": [
    "trc = e4p.llc_compact_to_tiles(globals_dict['return_vars']['trc'])"
   ]
  },
  {
   "cell_type": "markdown",
   "id": "723b60bc-a655-47fd-a132-c3b446205e17",
   "metadata": {},
   "source": [
    "# Here is the plot"
   ]
  },
  {
   "cell_type": "code",
   "execution_count": 39,
   "id": "6df0e5a9-037b-472a-9ce8-6098dc206da0",
   "metadata": {},
   "outputs": [
    {
     "name": "stderr",
     "output_type": "stream",
     "text": [
      "/srv/conda/envs/notebook/lib/python3.11/site-packages/cartopy/mpl/geoaxes.py:1768: UserWarning: The input coordinates to pcolormesh are interpreted as cell centers, but are not monotonically increasing or decreasing. This may lead to incorrectly calculated cell edges, in which case, please supply explicit cell edges to pcolormesh.\n",
      "  result = super().pcolormesh(*args, **kwargs)\n",
      "/srv/conda/envs/notebook/lib/python3.11/site-packages/cartopy/mpl/geoaxes.py:1768: UserWarning: The input coordinates to pcolormesh are interpreted as cell centers, but are not monotonically increasing or decreasing. This may lead to incorrectly calculated cell edges, in which case, please supply explicit cell edges to pcolormesh.\n",
      "  result = super().pcolormesh(*args, **kwargs)\n",
      "/srv/conda/envs/notebook/lib/python3.11/site-packages/cartopy/mpl/geoaxes.py:1768: UserWarning: The input coordinates to pcolormesh are interpreted as cell centers, but are not monotonically increasing or decreasing. This may lead to incorrectly calculated cell edges, in which case, please supply explicit cell edges to pcolormesh.\n",
      "  result = super().pcolormesh(*args, **kwargs)\n",
      "/srv/conda/envs/notebook/lib/python3.11/site-packages/cartopy/mpl/geoaxes.py:1768: UserWarning: The input coordinates to pcolormesh are interpreted as cell centers, but are not monotonically increasing or decreasing. This may lead to incorrectly calculated cell edges, in which case, please supply explicit cell edges to pcolormesh.\n",
      "  result = super().pcolormesh(*args, **kwargs)\n",
      "/srv/conda/envs/notebook/lib/python3.11/site-packages/cartopy/mpl/geoaxes.py:1768: UserWarning: The input coordinates to pcolormesh are interpreted as cell centers, but are not monotonically increasing or decreasing. This may lead to incorrectly calculated cell edges, in which case, please supply explicit cell edges to pcolormesh.\n",
      "  result = super().pcolormesh(*args, **kwargs)\n",
      "/srv/conda/envs/notebook/lib/python3.11/site-packages/cartopy/mpl/geoaxes.py:1768: UserWarning: The input coordinates to pcolormesh are interpreted as cell centers, but are not monotonically increasing or decreasing. This may lead to incorrectly calculated cell edges, in which case, please supply explicit cell edges to pcolormesh.\n",
      "  result = super().pcolormesh(*args, **kwargs)\n"
     ]
    },
    {
     "data": {
      "image/png": "[encoded data removed]",
      "text/plain": [
       "<Figure size 640x480 with 1 Axes>"
      ]
     },
     "metadata": {},
     "output_type": "display_data"
    }
   ],
   "source": [
    "plt.clf()\n",
    "ax = plt.axes(projection = projection)\n",
    "vmax = 0.5\n",
    "it = -1\n",
    "for i in [7,8,9,10,11,12,1,0]:\n",
    "    plt.pcolormesh(grid.XC[i],grid.YC[i],trc[it,:,i].sum(axis = 0),transform = ccrs.PlateCarree(),vmax = vmax,vmin = 0,cmap = cmap)\n",
    "\n",
    "ax.set_extent(extent,crs = projection)\n",
    "ax.add_feature(cfeature.LAND,facecolor ='grey',zorder = 10)\n",
    "# ax.set_xlim(-70,30)\n",
    "# ax.set_ylim(-30,30)\n",
    "plt.tight_layout()\n",
    "ax.set_aspect(1.4)\n",
    "# plt.colorbar()\n",
    "plt.show()"
   ]
  },
  {
   "cell_type": "markdown",
   "id": "b65cc3ed-49be-4746-91e6-cc24e6653560",
   "metadata": {},
   "source": [
    "# Repeat for a different output, which is backward in time. "
   ]
  },
  {
   "cell_type": "code",
   "execution_count": 40,
   "id": "3aac447d-5bce-4d2e-9a22-3589ea3de3c3",
   "metadata": {},
   "outputs": [
    {
     "name": "stdout",
     "output_type": "stream",
     "text": [
      "Found file: /efs_ecco/ECCO/EMU/emu_userinterface_dir/emu_env.singularity\n",
      "EMU Input Files directory: /efs/owang/ECCO/EMU_test/emu_input_dir\n",
      "\n",
      "Specified directory of EMU run to examine: /efs_ecco/wjiang/emu_runs/trac_drift_back/emu_trc_561_196_trc3d.-40.0_30.0_-7.0_-5.0_25.0_0.0\n",
      "\n",
      "Reading /efs_ecco/wjiang/emu_runs/trac_drift_back/emu_trc_561_196_trc3d.-40.0_30.0_-7.0_-5.0_25.0_0.0\n",
      "\n",
      "Reading Tracer Tool output ... \n",
      "\n",
      "Detected     13 files of ptracer_mon_mean.*.data\n",
      "Detected     12 files of ptracer_mon_snap.*.data\n",
      "\n",
      "Averaging type (\"m\" for monthly or \"s\" for snapshot): m\n",
      "\n",
      "==> Reading and plotting monthly means ... \n",
      "Specified start and end files #: 0 and 1000000\n",
      "\n",
      "\n",
      "Reading file ... /efs_ecco/wjiang/emu_runs/trac_drift_back/emu_trc_561_196_trc3d.-40.0_30.0_-7.0_-5.0_25.0_0.0/output/ptracer_mon_mean.0000004692.data\n",
      "\n",
      "Reading file ... /efs_ecco/wjiang/emu_runs/trac_drift_back/emu_trc_561_196_trc3d.-40.0_30.0_-7.0_-5.0_25.0_0.0/output/ptracer_mon_mean.0000005111.data\n",
      "\n",
      "Reading file ... /efs_ecco/wjiang/emu_runs/trac_drift_back/emu_trc_561_196_trc3d.-40.0_30.0_-7.0_-5.0_25.0_0.0/output/ptracer_mon_mean.0000005843.data\n",
      "\n",
      "Reading file ... /efs_ecco/wjiang/emu_runs/trac_drift_back/emu_trc_561_196_trc3d.-40.0_30.0_-7.0_-5.0_25.0_0.0/output/ptracer_mon_mean.0000006575.data\n",
      "\n",
      "Reading file ... /efs_ecco/wjiang/emu_runs/trac_drift_back/emu_trc_561_196_trc3d.-40.0_30.0_-7.0_-5.0_25.0_0.0/output/ptracer_mon_mean.0000007307.data\n",
      "\n",
      "Reading file ... /efs_ecco/wjiang/emu_runs/trac_drift_back/emu_trc_561_196_trc3d.-40.0_30.0_-7.0_-5.0_25.0_0.0/output/ptracer_mon_mean.0000008039.data\n",
      "\n",
      "Reading file ... /efs_ecco/wjiang/emu_runs/trac_drift_back/emu_trc_561_196_trc3d.-40.0_30.0_-7.0_-5.0_25.0_0.0/output/ptracer_mon_mean.0000008771.data\n",
      "\n",
      "Reading file ... /efs_ecco/wjiang/emu_runs/trac_drift_back/emu_trc_561_196_trc3d.-40.0_30.0_-7.0_-5.0_25.0_0.0/output/ptracer_mon_mean.0000009503.data\n",
      "\n",
      "Reading file ... /efs_ecco/wjiang/emu_runs/trac_drift_back/emu_trc_561_196_trc3d.-40.0_30.0_-7.0_-5.0_25.0_0.0/output/ptracer_mon_mean.0000010235.data\n",
      "\n",
      "Reading file ... /efs_ecco/wjiang/emu_runs/trac_drift_back/emu_trc_561_196_trc3d.-40.0_30.0_-7.0_-5.0_25.0_0.0/output/ptracer_mon_mean.0000010967.data\n",
      "\n",
      "Reading file ... /efs_ecco/wjiang/emu_runs/trac_drift_back/emu_trc_561_196_trc3d.-40.0_30.0_-7.0_-5.0_25.0_0.0/output/ptracer_mon_mean.0000011699.data\n",
      "\n",
      "Reading file ... /efs_ecco/wjiang/emu_runs/trac_drift_back/emu_trc_561_196_trc3d.-40.0_30.0_-7.0_-5.0_25.0_0.0/output/ptracer_mon_mean.0000012431.data\n",
      "\n",
      "Reading file ... /efs_ecco/wjiang/emu_runs/trac_drift_back/emu_trc_561_196_trc3d.-40.0_30.0_-7.0_-5.0_25.0_0.0/output/ptracer_mon_mean.0000013163.data\n",
      "\n",
      "*********************************************\n",
      "Returning variable \n",
      "   return_vars_tmp, a dictionary with one item being\n",
      "   trc: last plotted tracer (3d) or time series of tracer (3d)\n",
      "\n",
      "\n",
      "***********************\n",
      "EMU variables read as global variables in module global_emu_var (emu); e.g., emu.nx\n",
      "***********************\n",
      "cs                  drc                 drf                 dvol3d              \n",
      "dxc                 dxg                 dyc                 dyg                 \n",
      "hfacc               hfacs               hfacw               nr                  \n",
      "nx                  ny                  rac                 ras                 \n",
      "raw                 raz                 rc                  rf                  \n",
      "sn                  trc3d               xc                  xg                  \n",
      "yc                  yg                  \n"
     ]
    }
   ],
   "source": [
    "globals_dict = ept.emu_plot(run_name=\"/efs_ecco/wjiang/emu_runs/trac_drift_back/emu_trc_561_196_trc3d.-40.0_30.0_-7.0_-5.0_25.0_0.0\",\n",
    "                            avg_type='m',\n",
    "                            pfile_beg=0, pfile_end=1000000)"
   ]
  },
  {
   "cell_type": "code",
   "execution_count": 41,
   "id": "8dd4953f-ade1-407a-bfb6-c050fa2c2045",
   "metadata": {},
   "outputs": [
    {
     "data": {
      "text/plain": [
       "dict_keys(['trc', 'trc_unit', 'files', 'timesteps', 'gm_tracer_content', 'gm_tracer_content_unit'])"
      ]
     },
     "execution_count": 41,
     "metadata": {},
     "output_type": "execute_result"
    }
   ],
   "source": [
    "globals_dict['return_vars'].keys()"
   ]
  },
  {
   "cell_type": "code",
   "execution_count": 42,
   "id": "6f5b6dfa-1107-41ce-a994-e63fc0d2eddf",
   "metadata": {
    "scrolled": true
   },
   "outputs": [
    {
     "data": {
      "text/plain": [
       "(13, 50, 1170, 90)"
      ]
     },
     "execution_count": 42,
     "metadata": {},
     "output_type": "execute_result"
    }
   ],
   "source": [
    "globals_dict['return_vars']['trc'].shape"
   ]
  },
  {
   "cell_type": "code",
   "execution_count": 43,
   "id": "de56b061-c9b2-4d11-9a5f-3dc15aa13258",
   "metadata": {},
   "outputs": [
    {
     "name": "stdout",
     "output_type": "stream",
     "text": [
      "llc_compact_to_faces: dims, llc  (13, 50, 1170, 90) 90\n",
      "llc_compact_to_faces: data_compact array type  float32\n",
      "llc_faces_to_tiles: data_tiles shape  (13, 50, 13, 90, 90)\n",
      "llc_faces_to_tiles: data_tiles dtype  float32\n"
     ]
    }
   ],
   "source": [
    "trc = e4p.llc_compact_to_tiles(globals_dict['return_vars']['trc'])"
   ]
  },
  {
   "cell_type": "code",
   "execution_count": 45,
   "id": "67cf07d7-139e-4b76-94fb-064970fb0ecd",
   "metadata": {},
   "outputs": [
    {
     "name": "stderr",
     "output_type": "stream",
     "text": [
      "/srv/conda/envs/notebook/lib/python3.11/site-packages/cartopy/mpl/geoaxes.py:1768: UserWarning: The input coordinates to pcolormesh are interpreted as cell centers, but are not monotonically increasing or decreasing. This may lead to incorrectly calculated cell edges, in which case, please supply explicit cell edges to pcolormesh.\n",
      "  result = super().pcolormesh(*args, **kwargs)\n",
      "/srv/conda/envs/notebook/lib/python3.11/site-packages/cartopy/mpl/geoaxes.py:1768: UserWarning: The input coordinates to pcolormesh are interpreted as cell centers, but are not monotonically increasing or decreasing. This may lead to incorrectly calculated cell edges, in which case, please supply explicit cell edges to pcolormesh.\n",
      "  result = super().pcolormesh(*args, **kwargs)\n",
      "/srv/conda/envs/notebook/lib/python3.11/site-packages/cartopy/mpl/geoaxes.py:1768: UserWarning: The input coordinates to pcolormesh are interpreted as cell centers, but are not monotonically increasing or decreasing. This may lead to incorrectly calculated cell edges, in which case, please supply explicit cell edges to pcolormesh.\n",
      "  result = super().pcolormesh(*args, **kwargs)\n",
      "/srv/conda/envs/notebook/lib/python3.11/site-packages/cartopy/mpl/geoaxes.py:1768: UserWarning: The input coordinates to pcolormesh are interpreted as cell centers, but are not monotonically increasing or decreasing. This may lead to incorrectly calculated cell edges, in which case, please supply explicit cell edges to pcolormesh.\n",
      "  result = super().pcolormesh(*args, **kwargs)\n",
      "/srv/conda/envs/notebook/lib/python3.11/site-packages/cartopy/mpl/geoaxes.py:1768: UserWarning: The input coordinates to pcolormesh are interpreted as cell centers, but are not monotonically increasing or decreasing. This may lead to incorrectly calculated cell edges, in which case, please supply explicit cell edges to pcolormesh.\n",
      "  result = super().pcolormesh(*args, **kwargs)\n",
      "/srv/conda/envs/notebook/lib/python3.11/site-packages/cartopy/mpl/geoaxes.py:1768: UserWarning: The input coordinates to pcolormesh are interpreted as cell centers, but are not monotonically increasing or decreasing. This may lead to incorrectly calculated cell edges, in which case, please supply explicit cell edges to pcolormesh.\n",
      "  result = super().pcolormesh(*args, **kwargs)\n"
     ]
    },
    {
     "data": {
      "image/png": "[encoded data removed]",
      "text/plain": [
       "<Figure size 640x480 with 1 Axes>"
      ]
     },
     "metadata": {},
     "output_type": "display_data"
    }
   ],
   "source": [
    "plt.clf()\n",
    "ax = plt.axes(projection = projection)\n",
    "vmax = 0.5\n",
    "it = 0\n",
    "for i in [7,8,9,10,11,12,1,0]:\n",
    "    plt.pcolormesh(grid.XC[i],grid.YC[i],trc[it,:,i].sum(axis = 0),transform = ccrs.PlateCarree(),vmax = vmax,vmin = 0,cmap = cmap)\n",
    "\n",
    "ax.set_extent(extent,crs = projection)\n",
    "ax.add_feature(cfeature.LAND,facecolor ='grey',zorder = 10)\n",
    "# ax.set_xlim(-70,30)\n",
    "# ax.set_ylim(-30,30)\n",
    "plt.tight_layout()\n",
    "ax.set_aspect(1.4)\n",
    "# plt.colorbar()\n",
    "plt.show()"
   ]
  },
  {
   "cell_type": "code",
   "execution_count": null,
   "id": "1e7b22db-581c-4566-8b4f-1add6448542d",
   "metadata": {},
   "outputs": [],
   "source": []
  }
 ],
 "metadata": {
  "kernelspec": {
   "display_name": "Python 3 (ipykernel)",
   "language": "python",
   "name": "python3"
  },
  "language_info": {
   "codemirror_mode": {
    "name": "ipython",
    "version": 3
   },
   "file_extension": ".py",
   "mimetype": "text/x-python",
   "name": "python",
   "nbconvert_exporter": "python",
   "pygments_lexer": "ipython3",
   "version": "3.11.9"
  }
 },
 "nbformat": 4,
 "nbformat_minor": 5
}
