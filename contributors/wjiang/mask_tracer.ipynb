{
 "cells": [
  {
   "cell_type": "code",
   "execution_count": 2,
   "id": "0a8a5057-f6be-4d07-8fdd-7fb180b636e6",
   "metadata": {},
   "outputs": [],
   "source": [
    "from emu_mask import *"
   ]
  },
  {
   "cell_type": "code",
   "execution_count": 3,
   "id": "d37918e1-47cf-4105-92ab-407e1b97162d",
   "metadata": {},
   "outputs": [],
   "source": [
    "grid = xr.open_dataset('/efs_ecco/wjiang/data_folder/GRID_GEOMETRY_ECCO_V4r4_native_llc0090.nc')"
   ]
  },
  {
   "cell_type": "code",
   "execution_count": 4,
   "id": "48740a27-a73d-4489-9671-58ea3c6eb1da",
   "metadata": {
    "scrolled": true
   },
   "outputs": [],
   "source": [
    "x_mask = np.logical_and(grid.XC>-40,grid.XC<30)\n",
    "y_mask = np.logical_and(grid.YC>-6.5,grid.YC<-5.5)\n",
    "z_mask = np.logical_and(grid.Z>-30,grid.Z<-20)\n",
    "# z_mask = xr.ones_like(grid.Z).astype(bool)\n",
    "naive_mask = np.logical_and(np.logical_and(x_mask,y_mask),z_mask).transpose('k','tile','j','i')"
   ]
  },
  {
   "cell_type": "code",
   "execution_count": 5,
   "id": "5019beb9-72b7-4d59-888b-161eebea0d8a",
   "metadata": {},
   "outputs": [
    {
     "name": "stdout",
     "output_type": "stream",
     "text": [
      "llc_tiles_to_faces: num_tiles,  13\n",
      "llc_faces_to_compact: face 3 shape (90, 90)\n",
      "llc_faces_to_compact: data_compact array shape (1170, 90)\n",
      "llc_faces_to_compact: data_compact array dtype bool\n"
     ]
    },
    {
     "data": {
      "text/plain": [
       "<matplotlib.collections.QuadMesh at 0x7f695295a390>"
      ]
     },
     "execution_count": 5,
     "metadata": {},
     "output_type": "execute_result"
    },
    {
     "data": {
      "image/png": "[encoded data removed]",
      "text/plain": [
       "<Figure size 640x480 with 1 Axes>"
      ]
     },
     "metadata": {},
     "output_type": "display_data"
    }
   ],
   "source": [
    "quickplotarray(naive_mask[2])"
   ]
  },
  {
   "cell_type": "code",
   "execution_count": 6,
   "id": "c2d3b001-681e-4879-88d8-baf6a55b1ab5",
   "metadata": {},
   "outputs": [
    {
     "name": "stdout",
     "output_type": "stream",
     "text": [
      "llc_tiles_to_faces: num_tiles,  13\n",
      "llc_faces_to_compact: face 3 shape (50, 90, 90)\n",
      "llc_faces_to_compact: data_compact array shape (50, 1170, 90)\n",
      "llc_faces_to_compact: data_compact array shape (50, 1170, 90)\n",
      "llc_faces_to_compact: data_compact array dtype bool\n"
     ]
    }
   ],
   "source": [
    "bask = array2mask(naive_mask,form = '>f8')\n",
    "bask.ravel().tofile('/efs_ecco/wjiang/masks/mask.sadrifter')"
   ]
  },
  {
   "cell_type": "code",
   "execution_count": null,
   "id": "f3234be8-6722-49db-b7d0-ce3153611edc",
   "metadata": {},
   "outputs": [],
   "source": []
  }
 ],
 "metadata": {
  "kernelspec": {
   "display_name": "Python 3 (ipykernel)",
   "language": "python",
   "name": "python3"
  },
  "language_info": {
   "codemirror_mode": {
    "name": "ipython",
    "version": 3
   },
   "file_extension": ".py",
   "mimetype": "text/x-python",
   "name": "python",
   "nbconvert_exporter": "python",
   "pygments_lexer": "ipython3",
   "version": "3.11.9"
  }
 },
 "nbformat": 4,
 "nbformat_minor": 5
}
